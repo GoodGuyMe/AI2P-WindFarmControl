{
 "cells": [
  {
   "cell_type": "code",
   "execution_count": 1,
   "outputs": [],
   "source": [
    "import torch\n",
    "\n",
    "import numpy as np\n",
    "import torch.nn as nn\n",
    "\n",
    "from adamp import AdamP\n",
    "from torch.optim import Adam\n",
    "from box import Box\n",
    "from torch_geometric.data import Dataset\n",
    "from torch_geometric.loader import DataLoader\n",
    "from torch.utils.data import random_split\n",
    "from architecture.nets.pignn import FlowPIGNN"
   ],
   "metadata": {
    "collapsed": false,
    "ExecuteTime": {
     "end_time": "2024-09-19T17:06:17.329469200Z",
     "start_time": "2024-09-19T17:06:12.872336400Z"
    }
   }
  },
  {
   "cell_type": "code",
   "execution_count": 2,
   "outputs": [],
   "source": [
    "device = torch.device(\"cuda:0\" if torch.cuda.is_available() else \"cpu\")"
   ],
   "metadata": {
    "collapsed": false,
    "ExecuteTime": {
     "end_time": "2024-09-19T17:06:17.334512100Z",
     "start_time": "2024-09-19T17:06:17.330466800Z"
    }
   }
  },
  {
   "cell_type": "code",
   "execution_count": 3,
   "outputs": [],
   "source": [
    "# Load the data into train and test datasets\n",
    "batch_size = 64\n",
    "data_folder = 'D:\\AI2P\\data\\Case_01\\graphs'\n",
    "data_range = range(30005, 42000 + 1, 5)\n",
    "\n",
    "class GraphDataset(Dataset):\n",
    "    def __init__(self, root, data_range, transform=None, pre_transform=None):\n",
    "        super(GraphDataset, self).__init__(root, transform, pre_transform)\n",
    "        self.data_range = data_range\n",
    "        self.graph_paths = self.load_graph_paths()\n",
    "\n",
    "    def load_graph_paths(self):\n",
    "        graph_paths = [f\"{data_folder}/graph_{i}.pt\" for i in self.data_range]\n",
    "        return graph_paths\n",
    "\n",
    "    def len(self):\n",
    "        return len(self.graph_paths)\n",
    "\n",
    "    def get(self, idx):\n",
    "        graph_path = self.graph_paths[idx]\n",
    "        graph_data = torch.load(graph_path)\n",
    "        return graph_data\n",
    "\n",
    "dataset = GraphDataset(root=data_folder, data_range=data_range)\n",
    "\n",
    "total_size = len(dataset)\n",
    "train_size = int(0.7 * total_size)\n",
    "val_size = int(0.1 * total_size)\n",
    "test_size = total_size - train_size - val_size\n",
    "\n",
    "train_dataset, val_dataset, test_dataset = random_split(dataset, [train_size, val_size, test_size])\n",
    "\n",
    "train_loader = DataLoader(train_dataset, batch_size=batch_size, shuffle=True)\n",
    "val_loader = DataLoader(val_dataset, batch_size=batch_size, shuffle=True)\n",
    "test_loader = DataLoader(test_dataset, batch_size=batch_size, shuffle=True)"
   ],
   "metadata": {
    "collapsed": false,
    "ExecuteTime": {
     "end_time": "2024-09-19T17:06:17.346250100Z",
     "start_time": "2024-09-19T17:06:17.334512100Z"
    }
   }
  },
  {
   "cell_type": "code",
   "execution_count": 4,
   "metadata": {
    "collapsed": true,
    "ExecuteTime": {
     "end_time": "2024-09-19T17:06:17.351620800Z",
     "start_time": "2024-09-19T17:06:17.348248500Z"
    }
   },
   "outputs": [],
   "source": [
    "model_cfg = Box({\n",
    "        'edge_in_dim': 2,\n",
    "        'node_in_dim': 3,\n",
    "        'global_in_dim': 1,\n",
    "        'n_pign_layers': 3,\n",
    "        'edge_hidden_dim': 50,\n",
    "        'node_hidden_dim': 50,\n",
    "        'global_hidden_dim': 50,\n",
    "        'residual': True,\n",
    "        'input_norm': True,\n",
    "        'pign_mlp_params': {'num_neurons': [256, 128],\n",
    "                           'hidden_act': 'ReLU',\n",
    "                           'out_act': 'ReLU'},\n",
    "        'reg_mlp_params': {'num_neurons': [64, 32, 16],\n",
    "                           'hidden_act': 'ReLU',\n",
    "                           'out_act': 'ReLU'},\n",
    "})"
   ]
  },
  {
   "cell_type": "code",
   "execution_count": 5,
   "outputs": [],
   "source": [
    "num_epochs = 200\n",
    "\n",
    "def train():\n",
    "    model = FlowPIGNN(**model_cfg).to(device)\n",
    "    print(model)\n",
    "\n",
    "    if torch.cuda.is_available():\n",
    "        optimizer = AdamP(model.parameters(), lr=1e-3)\n",
    "    else:\n",
    "        optimizer = Adam(model.parameters(), lr=1e-3)\n",
    "\n",
    "    criterion = nn.MSELoss()\n",
    "    scheduler = torch.optim.lr_scheduler.CosineAnnealingWarmRestarts(optimizer, T_0=50)\n",
    "\n",
    "    for epoch in range(num_epochs):\n",
    "        train_losses = []\n",
    "        for batch in train_loader:\n",
    "            node_feat = torch.cat((batch.x.to(device), batch.pos.to(device)), dim=-1)\n",
    "            edge_feat = batch.edge_attr.to(device)\n",
    "            glob_feat = batch.global_feats.to(device)\n",
    "            edge_idx = batch.edge_index.to(device)\n",
    "\n",
    "            pred = model(node_feat, edge_feat, glob_feat, edge_idx)\n",
    "            loss = criterion(pred, batch.y)\n",
    "            train_losses.append(loss)\n",
    "            optimizer.zero_grad()\n",
    "            loss.backward()\n",
    "            optimizer.step()\n",
    "            scheduler.step()\n",
    "\n",
    "        with torch.no_grad():\n",
    "            model.eval()\n",
    "            val_losses = []\n",
    "            for batch in val_loader:\n",
    "                node_feat = torch.cat((batch.x.to(device), batch.pos.to(device)), dim=-1)\n",
    "                edge_feat = batch.edge_attr.to(device)\n",
    "                glob_feat = batch.global_feats.to(device)\n",
    "                edge_idx = batch.edge_index.to(device)\n",
    "\n",
    "                pred = model(node_feat, edge_feat, glob_feat, edge_idx)\n",
    "                val_loss = criterion(pred, batch.y)\n",
    "                val_losses.append(val_loss)\n",
    "                model.train()\n",
    "\n",
    "        learning_rate = optimizer.param_groups[0]['lr']\n",
    "        print(f\"step {epoch}/{num_epochs}, lr: {learning_rate}, training loss: {np.mean(train_losses)}, validation loss: {np.mean(val_losses)}\")\n",
    "\n",
    "        # save model pointer\n",
    "        torch.save(model.state_dict(), f\"pignn_{epoch}.pt\")"
   ],
   "metadata": {
    "collapsed": false,
    "ExecuteTime": {
     "end_time": "2024-09-19T17:06:18.932980600Z",
     "start_time": "2024-09-19T17:06:18.922486100Z"
    }
   }
  },
  {
   "cell_type": "code",
   "execution_count": null,
   "outputs": [
    {
     "name": "stdout",
     "output_type": "stream",
     "text": [
      "FlowPIGNN(\n",
      "  (gn_layers): ModuleList(\n",
      "    (0-3): 4 x PIGN()\n",
      "  )\n",
      "  (reg): MLP \n",
      "  Dimensions : [150, 64, 32, 16, 90000] \n",
      "  Hidden Act. : ReLU() \n",
      "  Out Act. : ReLU() \n",
      "  \n",
      ")\n"
     ]
    },
    {
     "name": "stderr",
     "output_type": "stream",
     "text": [
      "C:\\Users\\Matth\\AppData\\Local\\Temp\\ipykernel_11640\\914739.py:21: FutureWarning: You are using `torch.load` with `weights_only=False` (the current default value), which uses the default pickle module implicitly. It is possible to construct malicious pickle data which will execute arbitrary code during unpickling (See https://github.com/pytorch/pytorch/blob/main/SECURITY.md#untrusted-models for more details). In a future release, the default value for `weights_only` will be flipped to `True`. This limits the functions that could be executed during unpickling. Arbitrary objects will no longer be allowed to be loaded via this mode unless they are explicitly allowlisted by the user via `torch.serialization.add_safe_globals`. We recommend you start setting `weights_only=True` for any use case where you don't have full control of the loaded file. Please open an issue on GitHub for any issues related to this experimental feature.\n",
      "  graph_data = torch.load(graph_path)\n"
     ]
    }
   ],
   "source": [
    "train()"
   ],
   "metadata": {
    "collapsed": false,
    "is_executing": true
   }
  },
  {
   "cell_type": "code",
   "execution_count": null,
   "outputs": [],
   "source": [],
   "metadata": {
    "collapsed": false
   }
  }
 ],
 "metadata": {
  "kernelspec": {
   "display_name": "Python 3",
   "language": "python",
   "name": "python3"
  },
  "language_info": {
   "codemirror_mode": {
    "name": "ipython",
    "version": 2
   },
   "file_extension": ".py",
   "mimetype": "text/x-python",
   "name": "python",
   "nbconvert_exporter": "python",
   "pygments_lexer": "ipython2",
   "version": "2.7.6"
  }
 },
 "nbformat": 4,
 "nbformat_minor": 0
}
