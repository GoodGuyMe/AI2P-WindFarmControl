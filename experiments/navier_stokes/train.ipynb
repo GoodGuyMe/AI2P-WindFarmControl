{
 "cells": [
  {
   "cell_type": "code",
   "execution_count": 1,
   "metadata": {},
   "outputs": [],
   "source": [
    "from collections import defaultdict\n",
    "\n",
    "import torch\n",
    "from torch.utils.data import DataLoader, random_split\n",
    "\n",
    "import numpy as np\n",
    "import matplotlib.pyplot as plt\n",
    "\n",
    "from tqdm.notebook import tqdm\n",
    "\n",
    "from ns_loss import NSLoss"
   ]
  },
  {
   "cell_type": "code",
   "execution_count": 2,
   "metadata": {},
   "outputs": [],
   "source": [
    "def get_nr_parameters(model):\n",
    "    totalCount = 0\n",
    "\n",
    "    for param in model.parameters():\n",
    "        totalCount += param.nelement()\n",
    "\n",
    "    return totalCount"
   ]
  },
  {
   "cell_type": "code",
   "execution_count": 15,
   "metadata": {},
   "outputs": [],
   "source": [
    "class Sine(torch.nn.Module):\n",
    "    def __init__(self, w0=1):\n",
    "        super().__init__()\n",
    "        self.w0 = w0\n",
    "    def forward(self, x):\n",
    "        return torch.sin(self.w0 * x)\n",
    "\n",
    "\n",
    "class PINN(torch.nn.Module):\n",
    "    def __init__(self, hidden_size=64, nr_hidden_layer=5, out_dimensions=5, sine_activation=False, w0=1) -> None:\n",
    "        super().__init__()\n",
    "\n",
    "        self.input = torch.nn.Linear(3, hidden_size)\n",
    "        self.hidden_layers = torch.nn.ModuleList([torch.nn.Linear(hidden_size, hidden_size) for _ in range(nr_hidden_layer)])\n",
    "        self.output = torch.nn.Linear(hidden_size, out_dimensions)\n",
    "\n",
    "        self.activation = Sine(w0) if sine_activation else torch.nn.ReLU()\n",
    "\n",
    "    def forward(self, coords):\n",
    "        # Input: x, y, t\n",
    "        coords = coords.clone().detach().requires_grad_(True) \n",
    "\n",
    "        x = self.activation(self.input(coords))\n",
    "\n",
    "        for layer in self.hidden_layers:\n",
    "            x = self.activation(layer(x))\n",
    "\n",
    "        x = self.output(x)\n",
    "        \n",
    "        #Output: u, v, w, rho, p\n",
    "        return x, coords"
   ]
  },
  {
   "cell_type": "code",
   "execution_count": 16,
   "metadata": {},
   "outputs": [
    {
     "data": {
      "text/plain": [
       "(624, 312, 312)"
      ]
     },
     "execution_count": 16,
     "metadata": {},
     "output_type": "execute_result"
    }
   ],
   "source": [
    "from experiments.navier_stokes.grid_dataset import GridDataset\n",
    "\n",
    "dataset = GridDataset(\"../../data/Case_01/measurements_flow/postProcessing_BL/windspeedMapVectors\")\n",
    "\n",
    "MIN_TIME, MAX_TIME = dataset[0][0][:, 2][0].item(), dataset[-1][0][:, 2][0].item()\n",
    "\n",
    "train, tmp = random_split(dataset, [0.5, 0.5])\n",
    "val, test = random_split(tmp, [0.5, 0.5])\n",
    "\n",
    "train_loader = DataLoader(train, batch_size=1, shuffle=True, num_workers=4)\n",
    "val_loader = DataLoader(val, batch_size=1, shuffle=True, num_workers=4)\n",
    "test_loader = DataLoader(test, batch_size=1, shuffle=True, num_workers=4)\n",
    "\n",
    "len(train), len(val), len(test)"
   ]
  },
  {
   "cell_type": "code",
   "execution_count": 25,
   "metadata": {},
   "outputs": [
    {
     "data": {
      "text/plain": [
       "(21381,\n",
       " PINN(\n",
       "   (input): Linear(in_features=3, out_features=64, bias=True)\n",
       "   (hidden_layers): ModuleList(\n",
       "     (0-4): 5 x Linear(in_features=64, out_features=64, bias=True)\n",
       "   )\n",
       "   (output): Linear(in_features=64, out_features=5, bias=True)\n",
       "   (activation): ReLU()\n",
       " ))"
      ]
     },
     "execution_count": 25,
     "metadata": {},
     "output_type": "execute_result"
    }
   ],
   "source": [
    "model = PINN(nr_hidden_layer=5, hidden_size=64, sine_activation=False).cuda()\n",
    "\n",
    "# optimizer = torch.optim.Adam(model.parameters(), lr=1e-4)\n",
    "optimizer = torch.optim.LBFGS(model.parameters(), \n",
    "                              max_iter=10,\n",
    "                              tolerance_grad=1e-5,\n",
    "                              line_search_fn=\"strong_wolfe\"\n",
    "                            )\n",
    "\n",
    "criterion = NSLoss(physics_coef=10)\n",
    "\n",
    "get_nr_parameters(model), model"
   ]
  },
  {
   "cell_type": "code",
   "execution_count": 26,
   "metadata": {},
   "outputs": [
    {
     "data": {
      "application/vnd.jupyter.widget-view+json": {
       "model_id": "b2bfed92865e4309bc93141f90526085",
       "version_major": 2,
       "version_minor": 0
      },
      "text/plain": [
       "  0%|          | 0/2 [00:00<?, ?it/s]"
      ]
     },
     "metadata": {},
     "output_type": "display_data"
    },
    {
     "data": {
      "application/vnd.jupyter.widget-view+json": {
       "model_id": "3507db24677544d3b16d71806b5f2905",
       "version_major": 2,
       "version_minor": 0
      },
      "text/plain": [
       "  0%|          | 0/624 [00:00<?, ?it/s]"
      ]
     },
     "metadata": {},
     "output_type": "display_data"
    },
    {
     "ename": "KeyboardInterrupt",
     "evalue": "",
     "output_type": "error",
     "traceback": [
      "\u001B[1;31m---------------------------------------------------------------------------\u001B[0m",
      "\u001B[1;31mKeyboardInterrupt\u001B[0m                         Traceback (most recent call last)",
      "Cell \u001B[1;32mIn[26], line 32\u001B[0m\n\u001B[0;32m     28\u001B[0m         running_train_losses[\u001B[38;5;124m'\u001B[39m\u001B[38;5;124mphysics\u001B[39m\u001B[38;5;124m'\u001B[39m]\u001B[38;5;241m.\u001B[39mappend(physics_loss\u001B[38;5;241m.\u001B[39mitem())\n\u001B[0;32m     30\u001B[0m         \u001B[38;5;28;01mreturn\u001B[39;00m loss\n\u001B[1;32m---> 32\u001B[0m     optimizer\u001B[38;5;241m.\u001B[39mstep(closure)\n\u001B[0;32m     34\u001B[0m train_losses[\u001B[38;5;124m'\u001B[39m\u001B[38;5;124mtotal\u001B[39m\u001B[38;5;124m'\u001B[39m]\u001B[38;5;241m.\u001B[39mappend(np\u001B[38;5;241m.\u001B[39mmean(running_train_losses[\u001B[38;5;124m'\u001B[39m\u001B[38;5;124mtotal\u001B[39m\u001B[38;5;124m'\u001B[39m]))\n\u001B[0;32m     35\u001B[0m train_losses[\u001B[38;5;124m'\u001B[39m\u001B[38;5;124mdata\u001B[39m\u001B[38;5;124m'\u001B[39m]\u001B[38;5;241m.\u001B[39mappend(np\u001B[38;5;241m.\u001B[39mmean(running_train_losses[\u001B[38;5;124m'\u001B[39m\u001B[38;5;124mdata\u001B[39m\u001B[38;5;124m'\u001B[39m]))\n",
      "File \u001B[1;32mc:\\Users\\erena\\anaconda3\\envs\\Networks\\Lib\\site-packages\\torch\\optim\\optimizer.py:385\u001B[0m, in \u001B[0;36mOptimizer.profile_hook_step.<locals>.wrapper\u001B[1;34m(*args, **kwargs)\u001B[0m\n\u001B[0;32m    380\u001B[0m         \u001B[38;5;28;01melse\u001B[39;00m:\n\u001B[0;32m    381\u001B[0m             \u001B[38;5;28;01mraise\u001B[39;00m \u001B[38;5;167;01mRuntimeError\u001B[39;00m(\n\u001B[0;32m    382\u001B[0m                 \u001B[38;5;124mf\u001B[39m\u001B[38;5;124m\"\u001B[39m\u001B[38;5;132;01m{\u001B[39;00mfunc\u001B[38;5;132;01m}\u001B[39;00m\u001B[38;5;124m must return None or a tuple of (new_args, new_kwargs), but got \u001B[39m\u001B[38;5;132;01m{\u001B[39;00mresult\u001B[38;5;132;01m}\u001B[39;00m\u001B[38;5;124m.\u001B[39m\u001B[38;5;124m\"\u001B[39m\n\u001B[0;32m    383\u001B[0m             )\n\u001B[1;32m--> 385\u001B[0m out \u001B[38;5;241m=\u001B[39m func(\u001B[38;5;241m*\u001B[39margs, \u001B[38;5;241m*\u001B[39m\u001B[38;5;241m*\u001B[39mkwargs)\n\u001B[0;32m    386\u001B[0m \u001B[38;5;28mself\u001B[39m\u001B[38;5;241m.\u001B[39m_optimizer_step_code()\n\u001B[0;32m    388\u001B[0m \u001B[38;5;66;03m# call optimizer step post hooks\u001B[39;00m\n",
      "File \u001B[1;32mc:\\Users\\erena\\anaconda3\\envs\\Networks\\Lib\\site-packages\\torch\\utils\\_contextlib.py:115\u001B[0m, in \u001B[0;36mcontext_decorator.<locals>.decorate_context\u001B[1;34m(*args, **kwargs)\u001B[0m\n\u001B[0;32m    112\u001B[0m \u001B[38;5;129m@functools\u001B[39m\u001B[38;5;241m.\u001B[39mwraps(func)\n\u001B[0;32m    113\u001B[0m \u001B[38;5;28;01mdef\u001B[39;00m \u001B[38;5;21mdecorate_context\u001B[39m(\u001B[38;5;241m*\u001B[39margs, \u001B[38;5;241m*\u001B[39m\u001B[38;5;241m*\u001B[39mkwargs):\n\u001B[0;32m    114\u001B[0m     \u001B[38;5;28;01mwith\u001B[39;00m ctx_factory():\n\u001B[1;32m--> 115\u001B[0m         \u001B[38;5;28;01mreturn\u001B[39;00m func(\u001B[38;5;241m*\u001B[39margs, \u001B[38;5;241m*\u001B[39m\u001B[38;5;241m*\u001B[39mkwargs)\n",
      "File \u001B[1;32mc:\\Users\\erena\\anaconda3\\envs\\Networks\\Lib\\site-packages\\torch\\optim\\lbfgs.py:428\u001B[0m, in \u001B[0;36mLBFGS.step\u001B[1;34m(self, closure)\u001B[0m\n\u001B[0;32m    425\u001B[0m     \u001B[38;5;28;01mdef\u001B[39;00m \u001B[38;5;21mobj_func\u001B[39m(x, t, d):\n\u001B[0;32m    426\u001B[0m         \u001B[38;5;28;01mreturn\u001B[39;00m \u001B[38;5;28mself\u001B[39m\u001B[38;5;241m.\u001B[39m_directional_evaluate(closure, x, t, d)\n\u001B[1;32m--> 428\u001B[0m     loss, flat_grad, t, ls_func_evals \u001B[38;5;241m=\u001B[39m _strong_wolfe(\n\u001B[0;32m    429\u001B[0m         obj_func, x_init, t, d, loss, flat_grad, gtd)\n\u001B[0;32m    430\u001B[0m \u001B[38;5;28mself\u001B[39m\u001B[38;5;241m.\u001B[39m_add_grad(t, d)\n\u001B[0;32m    431\u001B[0m opt_cond \u001B[38;5;241m=\u001B[39m flat_grad\u001B[38;5;241m.\u001B[39mabs()\u001B[38;5;241m.\u001B[39mmax() \u001B[38;5;241m<\u001B[39m\u001B[38;5;241m=\u001B[39m tolerance_grad\n",
      "File \u001B[1;32mc:\\Users\\erena\\anaconda3\\envs\\Networks\\Lib\\site-packages\\torch\\optim\\lbfgs.py:50\u001B[0m, in \u001B[0;36m_strong_wolfe\u001B[1;34m(obj_func, x, t, d, f, g, gtd, c1, c2, tolerance_change, max_ls)\u001B[0m\n\u001B[0;32m     48\u001B[0m g \u001B[38;5;241m=\u001B[39m g\u001B[38;5;241m.\u001B[39mclone(memory_format\u001B[38;5;241m=\u001B[39mtorch\u001B[38;5;241m.\u001B[39mcontiguous_format)\n\u001B[0;32m     49\u001B[0m \u001B[38;5;66;03m# evaluate objective and gradient using initial step\u001B[39;00m\n\u001B[1;32m---> 50\u001B[0m f_new, g_new \u001B[38;5;241m=\u001B[39m obj_func(x, t, d)\n\u001B[0;32m     51\u001B[0m ls_func_evals \u001B[38;5;241m=\u001B[39m \u001B[38;5;241m1\u001B[39m\n\u001B[0;32m     52\u001B[0m gtd_new \u001B[38;5;241m=\u001B[39m g_new\u001B[38;5;241m.\u001B[39mdot(d)\n",
      "File \u001B[1;32mc:\\Users\\erena\\anaconda3\\envs\\Networks\\Lib\\site-packages\\torch\\optim\\lbfgs.py:426\u001B[0m, in \u001B[0;36mLBFGS.step.<locals>.obj_func\u001B[1;34m(x, t, d)\u001B[0m\n\u001B[0;32m    425\u001B[0m \u001B[38;5;28;01mdef\u001B[39;00m \u001B[38;5;21mobj_func\u001B[39m(x, t, d):\n\u001B[1;32m--> 426\u001B[0m     \u001B[38;5;28;01mreturn\u001B[39;00m \u001B[38;5;28mself\u001B[39m\u001B[38;5;241m.\u001B[39m_directional_evaluate(closure, x, t, d)\n",
      "File \u001B[1;32mc:\\Users\\erena\\anaconda3\\envs\\Networks\\Lib\\site-packages\\torch\\optim\\lbfgs.py:280\u001B[0m, in \u001B[0;36mLBFGS._directional_evaluate\u001B[1;34m(self, closure, x, t, d)\u001B[0m\n\u001B[0;32m    278\u001B[0m \u001B[38;5;28;01mdef\u001B[39;00m \u001B[38;5;21m_directional_evaluate\u001B[39m(\u001B[38;5;28mself\u001B[39m, closure, x, t, d):\n\u001B[0;32m    279\u001B[0m     \u001B[38;5;28mself\u001B[39m\u001B[38;5;241m.\u001B[39m_add_grad(t, d)\n\u001B[1;32m--> 280\u001B[0m     loss \u001B[38;5;241m=\u001B[39m \u001B[38;5;28mfloat\u001B[39m(closure())\n\u001B[0;32m    281\u001B[0m     flat_grad \u001B[38;5;241m=\u001B[39m \u001B[38;5;28mself\u001B[39m\u001B[38;5;241m.\u001B[39m_gather_flat_grad()\n\u001B[0;32m    282\u001B[0m     \u001B[38;5;28mself\u001B[39m\u001B[38;5;241m.\u001B[39m_set_param(x)\n",
      "File \u001B[1;32mc:\\Users\\erena\\anaconda3\\envs\\Networks\\Lib\\site-packages\\torch\\utils\\_contextlib.py:115\u001B[0m, in \u001B[0;36mcontext_decorator.<locals>.decorate_context\u001B[1;34m(*args, **kwargs)\u001B[0m\n\u001B[0;32m    112\u001B[0m \u001B[38;5;129m@functools\u001B[39m\u001B[38;5;241m.\u001B[39mwraps(func)\n\u001B[0;32m    113\u001B[0m \u001B[38;5;28;01mdef\u001B[39;00m \u001B[38;5;21mdecorate_context\u001B[39m(\u001B[38;5;241m*\u001B[39margs, \u001B[38;5;241m*\u001B[39m\u001B[38;5;241m*\u001B[39mkwargs):\n\u001B[0;32m    114\u001B[0m     \u001B[38;5;28;01mwith\u001B[39;00m ctx_factory():\n\u001B[1;32m--> 115\u001B[0m         \u001B[38;5;28;01mreturn\u001B[39;00m func(\u001B[38;5;241m*\u001B[39margs, \u001B[38;5;241m*\u001B[39m\u001B[38;5;241m*\u001B[39mkwargs)\n",
      "Cell \u001B[1;32mIn[26], line 24\u001B[0m, in \u001B[0;36mclosure\u001B[1;34m()\u001B[0m\n\u001B[0;32m     21\u001B[0m outputs, input_coords \u001B[38;5;241m=\u001B[39m model(inputs)\n\u001B[0;32m     22\u001B[0m loss, data_loss, physics_loss \u001B[38;5;241m=\u001B[39m criterion(input_coords, outputs, targets)\n\u001B[1;32m---> 24\u001B[0m loss\u001B[38;5;241m.\u001B[39mbackward()\n\u001B[0;32m     26\u001B[0m running_train_losses[\u001B[38;5;124m'\u001B[39m\u001B[38;5;124mtotal\u001B[39m\u001B[38;5;124m'\u001B[39m]\u001B[38;5;241m.\u001B[39mappend(loss\u001B[38;5;241m.\u001B[39mitem())\n\u001B[0;32m     27\u001B[0m running_train_losses[\u001B[38;5;124m'\u001B[39m\u001B[38;5;124mdata\u001B[39m\u001B[38;5;124m'\u001B[39m]\u001B[38;5;241m.\u001B[39mappend(data_loss\u001B[38;5;241m.\u001B[39mitem())\n",
      "File \u001B[1;32mc:\\Users\\erena\\anaconda3\\envs\\Networks\\Lib\\site-packages\\torch\\_tensor.py:522\u001B[0m, in \u001B[0;36mTensor.backward\u001B[1;34m(self, gradient, retain_graph, create_graph, inputs)\u001B[0m\n\u001B[0;32m    512\u001B[0m \u001B[38;5;28;01mif\u001B[39;00m has_torch_function_unary(\u001B[38;5;28mself\u001B[39m):\n\u001B[0;32m    513\u001B[0m     \u001B[38;5;28;01mreturn\u001B[39;00m handle_torch_function(\n\u001B[0;32m    514\u001B[0m         Tensor\u001B[38;5;241m.\u001B[39mbackward,\n\u001B[0;32m    515\u001B[0m         (\u001B[38;5;28mself\u001B[39m,),\n\u001B[1;32m   (...)\u001B[0m\n\u001B[0;32m    520\u001B[0m         inputs\u001B[38;5;241m=\u001B[39minputs,\n\u001B[0;32m    521\u001B[0m     )\n\u001B[1;32m--> 522\u001B[0m torch\u001B[38;5;241m.\u001B[39mautograd\u001B[38;5;241m.\u001B[39mbackward(\n\u001B[0;32m    523\u001B[0m     \u001B[38;5;28mself\u001B[39m, gradient, retain_graph, create_graph, inputs\u001B[38;5;241m=\u001B[39minputs\n\u001B[0;32m    524\u001B[0m )\n",
      "File \u001B[1;32mc:\\Users\\erena\\anaconda3\\envs\\Networks\\Lib\\site-packages\\torch\\autograd\\__init__.py:266\u001B[0m, in \u001B[0;36mbackward\u001B[1;34m(tensors, grad_tensors, retain_graph, create_graph, grad_variables, inputs)\u001B[0m\n\u001B[0;32m    261\u001B[0m     retain_graph \u001B[38;5;241m=\u001B[39m create_graph\n\u001B[0;32m    263\u001B[0m \u001B[38;5;66;03m# The reason we repeat the same comment below is that\u001B[39;00m\n\u001B[0;32m    264\u001B[0m \u001B[38;5;66;03m# some Python versions print out the first line of a multi-line function\u001B[39;00m\n\u001B[0;32m    265\u001B[0m \u001B[38;5;66;03m# calls in the traceback and some print out the last line\u001B[39;00m\n\u001B[1;32m--> 266\u001B[0m Variable\u001B[38;5;241m.\u001B[39m_execution_engine\u001B[38;5;241m.\u001B[39mrun_backward(  \u001B[38;5;66;03m# Calls into the C++ engine to run the backward pass\u001B[39;00m\n\u001B[0;32m    267\u001B[0m     tensors,\n\u001B[0;32m    268\u001B[0m     grad_tensors_,\n\u001B[0;32m    269\u001B[0m     retain_graph,\n\u001B[0;32m    270\u001B[0m     create_graph,\n\u001B[0;32m    271\u001B[0m     inputs,\n\u001B[0;32m    272\u001B[0m     allow_unreachable\u001B[38;5;241m=\u001B[39m\u001B[38;5;28;01mTrue\u001B[39;00m,\n\u001B[0;32m    273\u001B[0m     accumulate_grad\u001B[38;5;241m=\u001B[39m\u001B[38;5;28;01mTrue\u001B[39;00m,\n\u001B[0;32m    274\u001B[0m )\n",
      "\u001B[1;31mKeyboardInterrupt\u001B[0m: "
     ]
    }
   ],
   "source": [
    "epochs = 2\n",
    "\n",
    "train_losses = defaultdict(list)\n",
    "val_losses = defaultdict(list)\n",
    "\n",
    "for epoch in tqdm(range(1, epochs+1)):\n",
    "    running_train_losses = defaultdict(list)\n",
    "    \n",
    "    for inputs, targets in tqdm(train_loader):\n",
    "        model.train()\n",
    "\n",
    "        inputs = inputs.flatten(0, 1).float().cuda(non_blocking=True)\n",
    "        targets = targets.flatten(0, 1).float().cuda(non_blocking=True)\n",
    "\n",
    "        inputs[:, :2] = inputs[:, :2] / 299\n",
    "        inputs[:, 2] = (inputs[:, 2] - MIN_TIME) / MAX_TIME\n",
    "\n",
    "        def closure():            \n",
    "            optimizer.zero_grad()\n",
    "\n",
    "            outputs, input_coords = model(inputs)\n",
    "            loss, data_loss, physics_loss = criterion(input_coords, outputs, targets)\n",
    "\n",
    "            loss.backward()\n",
    "\n",
    "            running_train_losses['total'].append(loss.item())\n",
    "            running_train_losses['data'].append(data_loss.item())\n",
    "            running_train_losses['physics'].append(physics_loss.item())\n",
    "\n",
    "            return loss\n",
    "        \n",
    "        optimizer.step(closure)\n",
    "\n",
    "    train_losses['total'].append(np.mean(running_train_losses['total']))\n",
    "    train_losses['data'].append(np.mean(running_train_losses['data']))\n",
    "    train_losses['physics'].append(np.mean(running_train_losses['physics']))\n",
    "\n",
    "    running_val_losses = defaultdict(list)\n",
    "\n",
    "    for inputs, targets in val_loader:\n",
    "        model.eval()\n",
    "\n",
    "        inputs = inputs.flatten(0, 1).float().cuda(non_blocking=True)\n",
    "        targets = targets.flatten(0, 1).float().cuda(non_blocking=True)\n",
    "\n",
    "        inputs[:, :2] = inputs[:, :2] / 299\n",
    "        inputs[:, 2] = (inputs[:, 2] - MIN_TIME) / MAX_TIME\n",
    "\n",
    "        outputs, input_coords = model(inputs)\n",
    "        loss, data_loss, physics_loss = criterion(input_coords, outputs, targets)\n",
    "\n",
    "        running_val_losses['total'].append(loss.item())\n",
    "        running_val_losses['data'].append(data_loss.item())\n",
    "        running_val_losses['physics'].append(physics_loss.item())\n",
    "\n",
    "    val_losses['total'].append(np.mean(running_val_losses['total']))\n",
    "    val_losses['data'].append(np.mean(running_val_losses['data']))\n",
    "    val_losses['physics'].append(np.mean(running_val_losses['physics']))\n",
    "\n",
    "    print(f\"Epoch: {epoch} - Train Losses: {train_losses['total'][-1]:.4f}, {train_losses['physics'][-1]*10:.4f} - \\\n",
    "          Val Losses: {val_losses['total'][-1]:.4f}, {val_losses['physics'][-1]*10:.4f}\")\n",
    "            "
   ]
  },
  {
   "cell_type": "code",
   "execution_count": 39,
   "metadata": {},
   "outputs": [],
   "source": [
    "torch.save(model.state_dict(), \"model.pt\")"
   ]
  },
  {
   "cell_type": "code",
   "execution_count": 6,
   "metadata": {},
   "outputs": [
    {
     "data": {
      "text/plain": [
       "PINN(\n",
       "  (input): Linear(in_features=3, out_features=64, bias=True)\n",
       "  (hidden_layers): ModuleList(\n",
       "    (0-4): 5 x Linear(in_features=64, out_features=64, bias=True)\n",
       "  )\n",
       "  (output): Linear(in_features=64, out_features=5, bias=True)\n",
       "  (activation): ReLU()\n",
       ")"
      ]
     },
     "execution_count": 6,
     "metadata": {},
     "output_type": "execute_result"
    }
   ],
   "source": [
    "model = PINN(out_dimensions=5, sine_activation=False).cuda()\n",
    "\n",
    "model.load_state_dict(torch.load(\"model.pt\"))\n",
    "\n",
    "model"
   ]
  },
  {
   "cell_type": "code",
   "execution_count": 29,
   "metadata": {},
   "outputs": [],
   "source": [
    "def get_coordinates(index):\n",
    "    i = index // 300\n",
    "    j = index % 300\n",
    "    return i, j\n",
    "\n",
    "x,y = get_coordinates(torch.arange(90000))\n",
    "\n",
    "coords = torch.stack([x, y]).T.cuda() / 299"
   ]
  },
  {
   "cell_type": "code",
   "execution_count": 32,
   "metadata": {},
   "outputs": [],
   "source": [
    "model.eval()\n",
    "grids = []\n",
    "\n",
    "with torch.no_grad():\n",
    "    for time_instance in torch.linspace(0, 0.2, 100):\n",
    "        time_tensor = torch.full((coords.shape[0], 1), time_instance).cuda()\n",
    "        test_input = torch.concat((coords, time_tensor), dim=1)\n",
    "        \n",
    "        pred, _ = model(test_input)\n",
    "        pred_u = pred.reshape(300, 300, 5)[:, :, 1]\n",
    "        grids.append(pred_u)\n",
    "\n",
    "grids = torch.stack(grids)"
   ]
  },
  {
   "cell_type": "code",
   "execution_count": 37,
   "metadata": {},
   "outputs": [
    {
     "data": {
      "image/png": "[encoded data removed]",
      "text/plain": [
       "<Figure size 640x480 with 2 Axes>"
      ]
     },
     "metadata": {},
     "output_type": "display_data"
    }
   ],
   "source": [
    "fig, ax = plt.subplots()\n",
    "\n",
    "im = ax.imshow(grids[99].cpu())\n",
    "\n",
    "fig.colorbar(im);\n",
    "\n",
    "#fig.savefig(\"model output.png\")"
   ]
  }
 ],
 "metadata": {
  "kernelspec": {
   "display_name": "Networks",
   "language": "python",
   "name": "python3"
  },
  "language_info": {
   "codemirror_mode": {
    "name": "ipython",
    "version": 3
   },
   "file_extension": ".py",
   "mimetype": "text/x-python",
   "name": "python",
   "nbconvert_exporter": "python",
   "pygments_lexer": "ipython3",
   "version": "3.11.8"
  }
 },
 "nbformat": 4,
 "nbformat_minor": 2
}
